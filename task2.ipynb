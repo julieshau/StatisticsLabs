{
 "cells": [
  {
   "cell_type": "markdown",
   "source": [
    "# Discrete sampling\n",
    "In the last problem of the first session we sampled with given probabilities using prefix sums and binary search. The sampling code is the bottleneck of the whole process, its running times is 3 times higher than the code for uniform probabilities, and the difference would only increase for larger number of outcomes. In the next two problems we discuss two simple, but powerful techniques one can use to sample in time $O(1)$."
   ],
   "metadata": {
    "collapsed": false
   }
  },
  {
   "cell_type": "markdown",
   "source": [
    "**Problem 2a.** Consider the problem of sampling with known probabilities $p_1,\\ldots,p_d$. Suppose that you have a black-box that samples with probabilities $q_1,\\ldots,q_d$ that are close to $p_1,\\ldots,p_d$, say\n",
    "$$ \\forall_{i=1,\\ldots,n} p_i \\le (1+\\varepsilon)q_i.$$\n",
    "\n",
    "* How can you use this black-box to sample with probabilities $p_1,\\ldots,p_d$? It is expected, that the running time of the algorithm would be non-deterministic.\n",
    "* Prove that your algorithm is correct.\n",
    "* Implement the algorithm and use it to give a faster implementation for **Problem 1c**."
   ],
   "metadata": {
    "collapsed": false
   }
  },
  {
   "cell_type": "code",
   "execution_count": null,
   "outputs": [],
   "source": [
    "%%time\n",
    "import numpy as np\n",
    "import matplotlib.pyplot as plt\n",
    "\n",
    "newData = np.loadtxt('us_births_69_88.csv', skiprows=1, delimiter=',', dtype=np.int64)\n",
    "\n",
    "p_max = np.max(newData[:, 2])\n",
    "def choose():\n",
    "    while True:\n",
    "        k = np.random.randint(372)\n",
    "        z = np.random.rand()\n",
    "        if z <= newData[k,2]/p_max:\n",
    "            return k\n",
    "def foo():\n",
    "    s = set()\n",
    "    count = 0\n",
    "    while True:\n",
    "        a = choose()\n",
    "        if a in s:\n",
    "            return count + 1\n",
    "        else:\n",
    "            s.add(a)\n",
    "            count += 1\n",
    "\n",
    "x = np.array([foo() for i in range(100000)])\n",
    "plt.hist(x, bins=np.arange(1, np.max(x) + 1));"
   ],
   "metadata": {
    "collapsed": false,
    "pycharm": {
     "name": "#%%\n"
    }
   }
  },
  {
   "cell_type": "markdown",
   "source": [
    "**Problem 2b.** One of the reasons this implementation is not significantly faster than the one in **Problem 1c** , apart from $d$ being rather small, is that we are using Python's interpreter a bit too much, and Python is slow. One way around this is usually to use a library function - **searchsorted** is much faster than an equivalent code implemented in pure Python. But even if the functionality you need is not implemented in a lower level language as\n",
    "a library function, there is still hope. You can try to implement it using optimized array algebra, for example using **numpy**. In this problem, your task is to rewrite the previous algorithm, so that the amount of *looping* is reduced to a minimum necessary. In particular, you should create a *vectorized* version of random dates generation (in bulk), while the actual search for duplicates remains a loop with a **set**. Here are some useful tips:\n",
    "   * You can perform arithmetic, comparisons, etc. on **numpy** arrays.\n",
    "   * You can generate whole **numpy** arrays of random numbers at once.\n",
    "   * You can even perform parallel look-up like in the example below."
   ],
   "metadata": {
    "collapsed": false
   }
  },
  {
   "cell_type": "code",
   "execution_count": null,
   "outputs": [],
   "source": [
    "%%time\n",
    "def choose_v():\n",
    "    days = np.random.randint(372, size=372)\n",
    "    birth = newData[days,2]/p_max\n",
    "    z = np.random.rand(372)\n",
    "    return days[z <= birth]\n",
    "def foo():\n",
    "    s = set()\n",
    "    count = 0\n",
    "    while True:\n",
    "        a = choose_v()\n",
    "        for i in range(a.size):\n",
    "            if a[i] in s:\n",
    "                return count + 1\n",
    "            else:\n",
    "                s.add(a[i])\n",
    "                count += 1\n",
    "\n",
    "x = np.array([foo() for iter in range(100000)])\n",
    "plt.hist(x, bins=np.arange(1, np.max(x) + 1));"
   ],
   "metadata": {
    "collapsed": false,
    "pycharm": {
     "name": "#%%\n"
    }
   }
  },
  {
   "cell_type": "markdown",
   "source": [
    "**Problem 2c (Squaring the histogram).** In this problem, we again want to sample with known probabilities $p_1,\\ldots,p_n$, but this time we make no assumptions on $p_i$. Consider the following algorithm:\n",
    "   * Let $V$ be the mean of $p_i$, i.e. $V=\\frac{1}{n}$.\n",
    "   * Create $n$ buckets, each with volume $V$, put each $p_i$ into a separate bucket.\n",
    "   * Until there exists a bucket $A$ that is not full, find a bucket $B$ that overflows, and trasfer probability from $B$ to $A$ until $A$ is exactly full\n",
    "\n",
    "Show that:\n",
    "   * This algorithm always ends.\n",
    "   * When it ends, each bucket contains pieces of exactly two $p_i$'s.\n",
    "\n",
    "How to use the result of this algorithm to sample with probabilities $p_i$. Argue that your algorithm is correct and implement it. The sampling part should be *vectorized*. Use this algorithm to sample birthdates again, and test its efficiency."
   ],
   "metadata": {
    "collapsed": false
   }
  },
  {
   "cell_type": "code",
   "execution_count": 33,
   "outputs": [
    {
     "name": "stdout",
     "output_type": "stream",
     "text": [
      "(array([ 60,  61, 123, 185, 278, 340], dtype=int64),)\n"
     ]
    },
    {
     "data": {
      "text/plain": "<Figure size 432x288 with 1 Axes>",
      "image/png": "[encoded data removed]"
     },
     "metadata": {
      "needs_background": "light"
     },
     "output_type": "display_data"
    }
   ],
   "source": [
    "import numpy as np\n",
    "import matplotlib.pyplot as plt\n",
    "\n",
    "#alignment(all columns must be of equal height)\n",
    "def align(table):\n",
    "    birth_all = np.sum(table)\n",
    "    size = table.size\n",
    "    extra = birth_all % size\n",
    "    extra = size - extra\n",
    "    table[:extra] += 1\n",
    "    birth_all += extra\n",
    "    table_height = birth_all/size\n",
    "    return table_height\n",
    "\n",
    "def transfer(table, barrier, donor, height):\n",
    "    max_t = np.max(table)\n",
    "    min_t = np.min(table)\n",
    "    while max_t != min_t:\n",
    "        transfer_amount = height - min_t\n",
    "        index_max = np.argmax(table)\n",
    "        index_min = np.argmin(table)\n",
    "        table[index_max] -= transfer_amount\n",
    "        table[index_min] += transfer_amount\n",
    "        donor[index_min] = index_max\n",
    "        barrier[index_min] = index_min + (min_t/height)\n",
    "        max_t = np.max(table)\n",
    "        min_t = np.min(table)\n",
    "    for i in range(table.size):\n",
    "        if barrier[i] == 0:\n",
    "            barrier[i] = i + 1\n",
    "\n",
    "def choose_day(barrier, donor):\n",
    "    r = np.random.rand(donor.size) * donor.size\n",
    "    j = np.floor(r).astype('int64')\n",
    "    #if r < barrier(floor(r)) return floor(r)\n",
    "    #else return donor(floor(r))\n",
    "    return np.concatenate((j[r < barrier[j]], donor[j[r >= barrier[j]]]), axis=None)\n",
    "\n",
    "def f(barrier, donor):\n",
    "    s = set()\n",
    "    count = 0\n",
    "    while True:\n",
    "        a = choose_day(barrier, donor)\n",
    "        for i in range(a.size):\n",
    "            if a[i] in s:\n",
    "                return count + 1\n",
    "            else:\n",
    "                s.add(a[i])\n",
    "                count += 1\n",
    "\n",
    "Data = np.loadtxt('us_births_69_88.csv', skiprows=1, delimiter=',', dtype=np.int64)\n",
    "table = Data[:,2]\n",
    "print(np.where(table < 1000))\n",
    "height = align(table)\n",
    "donor = np.zeros(table.size, dtype=np.int64)\n",
    "barrier = np.zeros(table.size, dtype=np.double)\n",
    "transfer(table, barrier, donor, height)\n",
    "\n",
    "x = np.array([f(barrier, donor) for it in range(100000)])\n",
    "plt.hist(x, bins=np.arange(1, np.max(x) + 1));\n"
   ],
   "metadata": {
    "collapsed": false,
    "pycharm": {
     "name": "#%%\n"
    }
   }
  },
  {
   "cell_type": "markdown",
   "source": [
    "Efficiency:\n",
    "* 2a time - 27,2 s\n",
    "* 2b time - 11.1 s\n",
    "* 2c time - 8,2 s"
   ],
   "metadata": {
    "collapsed": false,
    "pycharm": {
     "name": "#%% md\n"
    }
   }
  },
  {
   "cell_type": "code",
   "execution_count": 31,
   "outputs": [
    {
     "name": "stdout",
     "output_type": "stream",
     "text": [
      "[189480 189480 189480 189480 189480 189480 189480 189480 189480 189480\n",
      " 189480 189480 189480 189480 189480 189480 189480 189480 189480 189480\n",
      " 189480 189480 189480 189480 189480 189480 189480 189480 189480 189480\n",
      " 189480 189480 189480 189480 189480 189480 189480 189480 189480 189480\n",
      " 189480 189480 189480 189480 189480 189480 189480 189480 189480 189480\n",
      " 189480 189480 189480 189480 189480 189480 189480 189480 189480 189480\n",
      " 189480 189480 189480 189480 189480 189480 189480 189480 189480 189480\n",
      " 189480 189480 189480 189480 189480 189480 189480 189480 189480 189480\n",
      " 189480 189480 189480 189480 189480 189480 189480 189480 189480 189480\n",
      " 189480 189480 189480 189480 189480 189480 189480 189480 189480 189480\n",
      " 189480 189480 189480 189480 189480 189480 189480 189480 189480 189480\n",
      " 189480 189480 189480 189480 189480 189480 189480 189480 189480 189480\n",
      " 189480 189480 189480 189480 189480 189480 189480 189480 189480 189480\n",
      " 189480 189480 189480 189480 189480 189480 189480 189480 189480 189480\n",
      " 189480 189480 189480 189480 189480 189480 189480 189480 189480 189480\n",
      " 189480 189480 189480 189480 189480 189480 189480 189480 189480 189480\n",
      " 189480 189480 189480 189480 189480 189480 189480 189480 189480 189480\n",
      " 189480 189480 189480 189480 189480 189480 189480 189480 189480 189480\n",
      " 189480 189480 189480 189480 189480 189480 189480 189480 189480 189480\n",
      " 189480 189480 189480 189480 189480 189480 189480 189480 189480 189480\n",
      " 189480 189480 189480 189480 189480 189480 189480 189480 189480 189480\n",
      " 189480 189480 189480 189480 189480 189480 189480 189480 189480 189480\n",
      " 189480 189480 189480 189480 189480 189480 189480 189480 189480 189480\n",
      " 189480 189480 189480 189480 189480 189480 189480 189480 189480 189480\n",
      " 189480 189480 189480 189480 189480 189480 189480 189480 189480 189480\n",
      " 189480 189480 189480 189480 189480 189480 189480 189480 189480 189480\n",
      " 189480 189480 189480 189480 189480 189480 189480 189480 189480 189480\n",
      " 189480 189480 189480 189480 189480 189480 189480 189480 189480 189480\n",
      " 189480 189480 189480 189480 189480 189480 189480 189480 189480 189480\n",
      " 189480 189480 189480 189480 189480 189480 189480 189480 189480 189480\n",
      " 189480 189480 189480 189480 189480 189480 189480 189480 189480 189480\n",
      " 189480 189480 189480 189480 189480 189480 189480 189480 189480 189480\n",
      " 189480 189480 189480 189480 189480 189480 189480 189480 189480 189480\n",
      " 189480 189480 189480 189480 189480 189480 189480 189480 189480 189480\n",
      " 189480 189480 189480 189480 189480 189480 189480 189480 189480 189480\n",
      " 189480 189480 189480 189480 189480 189480 189480 189480 189480 189480\n",
      " 189480 189480 189480 189480 189480 189480 189480 189480 189480 189480\n",
      " 189480 189480]\n",
      "(array([], dtype=int64),)\n"
     ]
    }
   ],
   "source": [],
   "metadata": {
    "collapsed": false,
    "pycharm": {
     "name": "#%%\n"
    }
   }
  }
 ],
 "metadata": {
  "kernelspec": {
   "display_name": "Python 3",
   "language": "python",
   "name": "python3"
  },
  "language_info": {
   "codemirror_mode": {
    "name": "ipython",
    "version": 3
   },
   "file_extension": ".py",
   "mimetype": "text/x-python",
   "name": "python",
   "nbconvert_exporter": "python",
   "pygments_lexer": "ipython3",
   "version": "3.9.0"
  }
 },
 "nbformat": 4,
 "nbformat_minor": 1
}