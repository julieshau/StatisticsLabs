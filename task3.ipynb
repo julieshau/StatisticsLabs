{
 "cells": [
  {
   "cell_type": "markdown",
   "source": [
    "# Mean and standard deviation"
   ],
   "metadata": {
    "collapsed": false
   }
  },
  {
   "cell_type": "markdown",
   "source": [
    "**Problem 3a.** In this problem we look at the mean and the standard deviation from a more statistical point of view.\n",
    " * Generate $N=1\\,000$ values $x_1,\\ldots,x_n$ from Poisson($\\lambda$) distribution for $\\lambda=10$. You might want to use the function **poisson(lambda,shape)** from package **numpy.random**.\n",
    " * Plot a histogram of these values. What is the mean of Poisson($\\lambda$)? What is the standard deviation? Are these values a good description of what you see in the histogram?\n",
    " * For $i \\in \\{1,\\ldots,n\\}$ compute $\\bar{x}_i = \\frac{x_1+\\ldots+x_i}{i}$. Plot the values of $\\bar{x}_i$.\n",
    " * On the same figure, plot a horizontal line corresponding to the expected value ($\\lambda$) of all those averages.\n",
    " * Compute (analitically) the standard deviation $\\sigma_i$ of the $i$-th average and plot lines $\\lambda \\pm \\sigma_i$, again on the same figure.\n",
    " * Does the standard deviation accurately describe the *typical* deviations?"
   ],
   "metadata": {
    "collapsed": false
   }
  },
  {
   "cell_type": "code",
   "execution_count": null,
   "outputs": [],
   "source": [
    "import numpy as np\n",
    "import matplotlib.pyplot as plt\n",
    "\n",
    "def sample4():\n",
    "    sign = np.random.randint(4)\n",
    "    # 0 with probability 1/2\n",
    "    if sign < 2:\n",
    "        return 0\n",
    "    x = np.random.rand()\n",
    "    x = 1 - x\n",
    "    x_term = np.floor(1 / x)\n",
    "    steps = [-2, -1, 0, 1, 2]\n",
    "    for step in steps:\n",
    "        k_cand = max(1, x_term + step)\n",
    "        if (k_cand + 1) >= x_term >= k_cand:\n",
    "            break\n",
    "    if sign == 2:\n",
    "        k_cand = -k_cand\n",
    "    return k_cand\n",
    "\n",
    "# 5.\n",
    "N = 10000\n",
    "ys = np.array(list(sample4() for i in range(N)))\n",
    "\n",
    "# 6.\n",
    "means = np.cumsum(ys) / range(1, N+1)\n",
    "\n",
    "# 7.\n",
    "plt.plot(range(N), means)\n",
    "plt.show()"
   ],
   "metadata": {
    "collapsed": false,
    "pycharm": {
     "name": "#%%\n"
    }
   }
  },
  {
   "cell_type": "markdown",
   "source": [
    "**Problem 3b.** In this task we consider a discrete distribution *without a mean* and verify whether we can still estimate the location of its peak by simply computing averages. Consider a discrete variable $X$ with the following distribution: $P(X=k) = \\frac{1}{4|k|(|k|+1)}$ for $k \\neq 0$ and $P(X=0) = \\frac{1}{2}$.\n",
    " * Argue that these formulas indeed describe a discrete distribution.\n",
    " * Show that $X$ does not have a mean.\n",
    " * Plot the function $f(k) = P(X=k)$ for $k \\in [-10,10]$.\n",
    " * Write a function that samples from $X$'s distribution (imaginary bonus points if it is vectorized).\n",
    " * Generate $N=10\\,000$ values $x_1,\\ldots,x_n$ from the distribution.\n",
    " * For $i \\in \\{1,\\ldots,n\\}$ compute $\\bar{x}_i = \\frac{x_1+\\ldots+x_i}{i}$.\n",
    " * Plot the values of $\\bar{x}_i$. Does it look like the series converges? If it is not clear, you can compute several independent\n",
    "   $N$-means and plot a histogram, then increase $N$ significantly and see how it changes.\n",
    " * For $i \\in \\{1,\\ldots,n\\}$ compute $\\hat{x}_i = \\textrm{ median of }\\{x_1,\\ldots,x_i\\}$.\n",
    "   You do not need to do it in a clever way (like in ASD lab).\n",
    " * Plot the values of $\\hat{x}_i$. Does it look like the series converges?\n",
    " * A more interesting situation would be the one where you a given a distribution like $X+c$ for unknown $c$, and\n",
    "   want to figure out what $c$ is, i.e. find the center of the distribution. Both methods above attempt to\n",
    "   locate the center - which works better?"
   ],
   "metadata": {
    "collapsed": false
   }
  },
  {
   "cell_type": "code",
   "execution_count": 35,
   "outputs": [
    {
     "data": {
      "text/plain": "<Figure size 432x288 with 1 Axes>",
      "image/png": "[encoded data removed]"
     },
     "metadata": {
      "needs_background": "light"
     },
     "output_type": "display_data"
    },
    {
     "data": {
      "text/plain": "<Figure size 432x288 with 1 Axes>",
      "image/png": "[encoded data removed]"
     },
     "metadata": {
      "needs_background": "light"
     },
     "output_type": "display_data"
    },
    {
     "data": {
      "text/plain": "<Figure size 432x288 with 1 Axes>",
      "image/png": "[encoded data removed]"
     },
     "metadata": {
      "needs_background": "light"
     },
     "output_type": "display_data"
    }
   ],
   "source": [
    "import numpy as np\n",
    "import matplotlib.pyplot as plt\n",
    "\n",
    "def sample(N):\n",
    "    sign = np.random.choice([0, 0, 1, -1], N) #0 with prob 0.5, positive number with 0.25\n",
    "    temp = 1 - np.random.rand(N) #half-open interval (0.0, 1.0]\n",
    "    temp = 1 / temp\n",
    "    result = np.floor(temp).astype('int64')\n",
    "    return result * sign\n",
    "\n",
    "def f(k):\n",
    "    if k == 0:\n",
    "        return 0.5\n",
    "    else:\n",
    "        if k < 0:\n",
    "            k = -k\n",
    "        return 1 / (4 * k * (k + 1))\n",
    "#3\n",
    "r = range(-10, 11)\n",
    "plot_values = [f(k) for k in r]\n",
    "plt.plot(r, plot_values)\n",
    "plt.show()\n",
    "\n",
    "#4,5\n",
    "N = 10000\n",
    "values = sample(N)\n",
    "#6,7\n",
    "means = np.cumsum(values).astype(np.float32) / np.arange(1, N + 1)\n",
    "plt.plot(means)\n",
    "plt.show()\n",
    "#it doesn't look like the series converges\n",
    "\n",
    "#8,9\n",
    "medians = np.array([np.median(values[:i + 1]) for i in range(N)])\n",
    "plt.plot(medians)\n",
    "plt.show()\n",
    "#it looks like the series converges\n",
    "\n",
    "\n"
   ],
   "metadata": {
    "collapsed": false,
    "pycharm": {
     "name": "#%%\n"
    }
   }
  }
 ],
 "metadata": {
  "kernelspec": {
   "display_name": "Python 3",
   "language": "python",
   "name": "python3"
  },
  "language_info": {
   "codemirror_mode": {
    "name": "ipython",
    "version": 3
   },
   "file_extension": ".py",
   "mimetype": "text/x-python",
   "name": "python",
   "nbconvert_exporter": "python",
   "pygments_lexer": "ipython3",
   "version": "3.9.0"
  }
 },
 "nbformat": 4,
 "nbformat_minor": 1
}